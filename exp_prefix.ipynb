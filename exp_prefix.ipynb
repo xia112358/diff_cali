{
 "cells": [
  {
   "cell_type": "markdown",
   "id": "ba694534",
   "metadata": {},
   "source": [
    "## 1. 读取PLY点云文件并计算球心位置\n",
    "\n",
    "使用项目中的 `read_ply_file` 读取点云文件，`fit_sphere_center_TLS_A` 计算球心位置，然后通过手眼关系变换到工具末端坐标系。"
   ]
  },
  {
   "cell_type": "code",
   "execution_count": 1,
   "id": "fa49cf0c",
   "metadata": {},
   "outputs": [
    {
     "name": "stdout",
     "output_type": "stream",
     "text": [
      "Jupyter environment detected. Enabling Open3D WebVisualizer.\n",
      "[Open3D INFO] WebRTC GUI backend enabled.\n",
      "[Open3D INFO] WebRTCWindowSystem: HTTP handshake server disabled.\n",
      "点云文件路径: d:\\桌面\\实习\\diff_cali\\point_cloud_00000.ply\n",
      "⚠️  过滤了 2992232 个包含NaN/Inf的点\n",
      "✓ 成功读取PLY文件: point_cloud_00000.ply, 153496 个点\n",
      "✓ 成功读取点云，包含 153496 个点\n",
      "球心位置 (相机坐标系): [6.986, -0.678, 318.206] mm\n",
      "球心位置 (工具末端坐标系): [-73.412, -104.917, 410.786] mm\n"
     ]
    }
   ],
   "source": [
    "from data_process.preprocess import read_ply_file\n",
    "from data_process.cloud import fit_sphere_center_TLS_A\n",
    "import torch\n",
    "import numpy as np\n",
    "import os\n",
    "\n",
    "def transform_point_to_tool(point, hand_eye_transform):\n",
    "    \"\"\"将相机坐标系中的点通过手眼关系变换到工具末端坐标系\"\"\"\n",
    "    # 将点转换为齐次坐标\n",
    "    point_homo = np.append(point, 1.0)\n",
    "    \n",
    "    # 使用手眼变换矩阵进行变换\n",
    "    point_tool = hand_eye_transform @ point_homo\n",
    "    \n",
    "    # 只保留xyz坐标\n",
    "    return point_tool[:3]\n",
    "\n",
    "# 直接使用提供的手眼变换矩阵\n",
    "hand_eye_transform = np.array([\n",
    "    [ 6.79867789e-01,  7.13487890e-01,  1.69454479e-01, -1.31598869e+02],\n",
    "    [-6.93042707e-01,  7.00664295e-01, -1.69591722e-01, -4.56350777e+01],\n",
    "    [-2.39732343e-01, -2.13924224e-03,  9.70836664e-01,  1.03533073e+02],\n",
    "    [ 0.00000000e+00,  0.00000000e+00,  0.00000000e+00,  1.00000000e+00]\n",
    "])\n",
    "\n",
    "# 设置文件路径\n",
    "ply_file_path = os.path.join(os.getcwd(), \"point_cloud_00000.ply\")\n",
    "\n",
    "print(f\"点云文件路径: {ply_file_path}\")\n",
    "\n",
    "# 检查文件是否存在\n",
    "if not os.path.exists(ply_file_path):\n",
    "    print(f\"❌ 点云文件不存在: {ply_file_path}\")\n",
    "else:\n",
    "    # 读取点云数据\n",
    "    point_cloud = read_ply_file(ply_file_path)\n",
    "    \n",
    "    if point_cloud is not None:\n",
    "        print(f\"✓ 成功读取点云，包含 {len(point_cloud)} 个点\")\n",
    "        \n",
    "        # 计算球心位置\n",
    "        point_cloud_tensor = torch.tensor(point_cloud, dtype=torch.float64)\n",
    "        sphere_center = fit_sphere_center_TLS_A(point_cloud_tensor)\n",
    "        sphere_center_np = sphere_center.detach().numpy()\n",
    "        \n",
    "        print(f\"球心位置 (相机坐标系): [{sphere_center_np[0]:.3f}, {sphere_center_np[1]:.3f}, {sphere_center_np[2]:.3f}] mm\")\n",
    "\n",
    "        # 转换到工具末端坐标系\n",
    "        sphere_center_tool = transform_point_to_tool(sphere_center_np, hand_eye_transform)\n",
    "        print(f\"球心位置 (工具末端坐标系): [{sphere_center_tool[0]:.3f}, {sphere_center_tool[1]:.3f}, {sphere_center_tool[2]:.3f}] mm\")\n",
    "\n",
    "    else:\n",
    "        print(\"❌ 点云数据读取失败\")"
   ]
  }
 ],
 "metadata": {
  "kernelspec": {
   "display_name": "robocali",
   "language": "python",
   "name": "python3"
  },
  "language_info": {
   "codemirror_mode": {
    "name": "ipython",
    "version": 3
   },
   "file_extension": ".py",
   "mimetype": "text/x-python",
   "name": "python",
   "nbconvert_exporter": "python",
   "pygments_lexer": "ipython3",
   "version": "3.11.13"
  }
 },
 "nbformat": 4,
 "nbformat_minor": 5
}
